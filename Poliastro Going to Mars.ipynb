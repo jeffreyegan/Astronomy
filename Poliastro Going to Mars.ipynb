{
 "cells": [
  {
   "cell_type": "markdown",
   "metadata": {},
   "source": [
    "# Going to Mars with Python using poliastro\n",
    "\n",
    "This is an example on how to use poliastro, a little library I’ve been working on to use in my Astrodynamics lessons. It features conversion between classical orbital elements and position vectors, propagation of Keplerian orbits, initial orbit determination using the solution of the Lambert’s problem and orbit plotting.\n",
    "\n",
    "In this example we’re going to draw the trajectory of the mission Mars Science Laboratory (MSL), which carried the rover Curiosity to the surface of Mars in a period of something less than 9 months.\n",
    "\n",
    "Note: This is a very simplistic analysis which doesn’t take into account many important factors of the mission, but can serve as an starting point for more serious computations (and as a side effect produces a beautiful plot at the end).\n",
    "\n",
    "First of all, we import the necessary modules. Apart from poliastro we will make use of astropy to deal with physical units and time definitions and jplephem to compute the positions and velocities of the planets."
   ]
  },
  {
   "cell_type": "code",
   "execution_count": 1,
   "metadata": {},
   "outputs": [],
   "source": [
    "import numpy as np\n",
    "\n",
    "import astropy.units as u\n",
    "from astropy import time\n",
    "\n",
    "from poliastro import iod\n",
    "from poliastro.bodies import Sun\n",
    "from poliastro.twobody import Orbit\n",
    "from poliastro.twobody.propagation import propagate\n",
    "\n",
    "from poliastro.util import time_range"
   ]
  },
  {
   "cell_type": "markdown",
   "metadata": {},
   "source": [
    "We need a binary file from NASA called SPICE kernel to compute the position and velocities of the planets. Astropy downloads it for us:"
   ]
  },
  {
   "cell_type": "code",
   "execution_count": 2,
   "metadata": {},
   "outputs": [
    {
     "data": {
      "text/plain": [
       "<ScienceState solar_system_ephemeris: 'jpl'>"
      ]
     },
     "execution_count": 2,
     "metadata": {},
     "output_type": "execute_result"
    }
   ],
   "source": [
    "from astropy.coordinates import solar_system_ephemeris, get_body_barycentric_posvel\n",
    "solar_system_ephemeris.set(\"jpl\")"
   ]
  },
  {
   "cell_type": "markdown",
   "metadata": {},
   "source": [
    "The initial data was gathered from Wikipedia: the date of the launch was on **November 26, 2011 at 15:02 UTC** and landing was on **August 6, 2012 at 05:17 UTC**. We compute then the time of flight, which is exactly what it sounds. It is a crucial parameter of the mission."
   ]
  },
  {
   "cell_type": "code",
   "execution_count": 3,
   "metadata": {},
   "outputs": [
    {
     "data": {
      "text/latex": [
       "$6086.2503 \\; \\mathrm{h}$"
      ],
      "text/plain": [
       "<Quantity 6086.25027778 h>"
      ]
     },
     "execution_count": 3,
     "metadata": {},
     "output_type": "execute_result"
    }
   ],
   "source": [
    "# Initial data\n",
    "N = 50\n",
    "\n",
    "date_launch = time.Time(\"2011-11-26 15:02\", scale=\"utc\")\n",
    "date_arrival = time.Time(\"2012-08-06 05:17\", scale=\"utc\")\n",
    "tof = date_arrival - date_launch\n",
    "\n",
    "tof.to(u.h)"
   ]
  },
  {
   "cell_type": "markdown",
   "metadata": {},
   "source": [
    "Once we have the vector of times we can use `get_body_barycentric_posvel` to compute the array of positions and velocities of the Earth and Mars."
   ]
  },
  {
   "cell_type": "code",
   "execution_count": 4,
   "metadata": {},
   "outputs": [
    {
     "data": {
      "text/plain": [
       "<Time object: scale='utc' format='iso' value=['2011-11-26 15:02:00.000' '2011-12-01 19:14:33.082'\n",
       " '2011-12-06 23:27:06.163' '2011-12-12 03:39:39.245'\n",
       " '2011-12-17 07:52:12.327']>"
      ]
     },
     "execution_count": 4,
     "metadata": {},
     "output_type": "execute_result"
    }
   ],
   "source": [
    "times_vector = time_range(date_launch, end=date_arrival, periods=N)\n",
    "times_vector[:5]"
   ]
  },
  {
   "cell_type": "code",
   "execution_count": 5,
   "metadata": {},
   "outputs": [],
   "source": [
    "rr_earth, vv_earth = get_body_barycentric_posvel(\"earth\", times_vector)"
   ]
  },
  {
   "cell_type": "code",
   "execution_count": 6,
   "metadata": {},
   "outputs": [
    {
     "data": {
      "text/plain": [
       "<CartesianRepresentation (x, y, z) in km\n",
       "    [(64600643.37167563, 1.21424866e+08, 52640047.33041222),\n",
       "     (52175250.21264037, 1.26254284e+08, 54733247.42732787),\n",
       "     (39319701.40598051, 1.30036609e+08, 56373071.6065251 )]>"
      ]
     },
     "execution_count": 6,
     "metadata": {},
     "output_type": "execute_result"
    }
   ],
   "source": [
    "rr_earth[:3]"
   ]
  },
  {
   "cell_type": "code",
   "execution_count": 7,
   "metadata": {},
   "outputs": [
    {
     "data": {
      "text/plain": [
       "<CartesianRepresentation (x, y, z) in km / d\n",
       "    [(-2352414.27027126, 1032013.3380897 , 447276.92493007),\n",
       "     (-2445842.68494247,  833043.95148986, 361105.49364196),\n",
       "     (-2518740.18681062,  627712.9008316 , 272197.06320273)]>"
      ]
     },
     "execution_count": 7,
     "metadata": {},
     "output_type": "execute_result"
    }
   ],
   "source": [
    "vv_earth[:3]"
   ]
  },
  {
   "cell_type": "code",
   "execution_count": 8,
   "metadata": {},
   "outputs": [],
   "source": [
    "rr_mars, vv_mars = get_body_barycentric_posvel(\"mars\", times_vector)"
   ]
  },
  {
   "cell_type": "code",
   "execution_count": 9,
   "metadata": {},
   "outputs": [
    {
     "data": {
      "text/plain": [
       "<CartesianRepresentation (x, y, z) in km\n",
       "    [(-1.23149631e+08, 1.90752511e+08, 90809654.2669948 ),\n",
       "     (-1.31992428e+08, 1.86383187e+08, 89044491.25204735),\n",
       "     (-1.40598005e+08, 1.81677346e+08, 87118570.32883616)]>"
      ]
     },
     "execution_count": 9,
     "metadata": {},
     "output_type": "execute_result"
    }
   ],
   "source": [
    "rr_mars[:3]"
   ]
  },
  {
   "cell_type": "code",
   "execution_count": 10,
   "metadata": {},
   "outputs": [
    {
     "data": {
      "text/plain": [
       "<CartesianRepresentation (x, y, z) in km / d\n",
       "    [(-1730626.66251077, -811069.96095538, -325255.37513281),\n",
       "     (-1686163.26853493, -877100.53950512, -356742.77622963),\n",
       "     (-1638971.32577256, -941103.98130274, -387374.07466148)]>"
      ]
     },
     "execution_count": 10,
     "metadata": {},
     "output_type": "execute_result"
    }
   ],
   "source": [
    "vv_mars[:3]"
   ]
  },
  {
   "cell_type": "markdown",
   "metadata": {},
   "source": [
    "<div class=\"alert alert-block alert-info\">The positions and velocities are in the International Celestial Reference Frame (ICRS), which has the Earth equator as the fundamental plane</div>"
   ]
  },
  {
   "cell_type": "markdown",
   "metadata": {},
   "source": [
    "To compute the transfer orbit, we have the useful function `lambert`: according to a theorem with the same name, the transfer orbit between two points in space only depends on those two points and the time it takes to go from one to the other. We have the starting and final position and we have the time of flight: there we go!"
   ]
  },
  {
   "cell_type": "code",
   "execution_count": 11,
   "metadata": {},
   "outputs": [],
   "source": [
    "# Compute the transfer orbit!\n",
    "r0 = rr_earth[0].xyz\n",
    "rf = rr_mars[-1].xyz\n",
    "\n",
    "(va, vb), = iod.lambert(Sun.k, r0, rf, tof)\n",
    "\n",
    "ss0_trans = Orbit.from_vectors(Sun, r0, va, date_launch)\n",
    "ssf_trans = Orbit.from_vectors(Sun, rf, vb, date_arrival)"
   ]
  },
  {
   "cell_type": "code",
   "execution_count": 12,
   "metadata": {},
   "outputs": [],
   "source": [
    "from poliastro.plotting import OrbitPlotter3D\n",
    "from poliastro.bodies import Earth, Mars\n",
    "\n",
    "from plotly.graph_objs import FigureWidget"
   ]
  },
  {
   "cell_type": "code",
   "execution_count": 13,
   "metadata": {},
   "outputs": [
    {
     "data": {
      "application/vnd.jupyter.widget-view+json": {
       "model_id": "4553693c38904dde84e2c04d45ca7915",
       "version_major": 2,
       "version_minor": 0
      },
      "text/plain": [
       "FigureWidget({\n",
       "    'data': [{'line': {'color': '#3d4cd5', 'dash': 'solid', 'width': 5},\n",
       "              'mode': …"
      ]
     },
     "metadata": {},
     "output_type": "display_data"
    }
   ],
   "source": [
    "color_earth0 = \"#3d4cd5\"\n",
    "color_earthf = \"#525fd5\"\n",
    "color_mars0 = \"#ec3941\"\n",
    "color_marsf = \"#ec1f28\"\n",
    "color_sun = \"#ffcc00\"\n",
    "color_orbit = \"#888888\"\n",
    "color_trans = \"#444444\"\n",
    "\n",
    "fig = FigureWidget()\n",
    "\n",
    "frame = OrbitPlotter3D(figure=fig)\n",
    "\n",
    "frame.set_attractor(Sun)\n",
    "\n",
    "frame.plot_trajectory(rr_earth, label=Earth, color=color_earth0)\n",
    "frame.plot_trajectory(rr_mars, label=Mars, color=color_marsf)\n",
    "\n",
    "frame.plot_trajectory(\n",
    "    propagate(ss0_trans, time.TimeDelta(times_vector - ss0_trans.epoch)),\n",
    "    label=\"MSL trajectory\",\n",
    "    color=color_trans,\n",
    ")\n",
    "\n",
    "frame.set_view(30 * u.deg, 260 * u.deg, distance=3 * u.km)\n",
    "\n",
    "fig.layout.title = \"MSL Mission: from Earth to Mars\"\n",
    "fig"
   ]
  },
  {
   "cell_type": "code",
   "execution_count": 15,
   "metadata": {},
   "outputs": [],
   "source": [
    "# This line opens a new browser tab and saves the resulting image:\n",
    "#frame.savefig(\"msl3d.png\", title=\"MSL Mission: from Earth to Mars\")"
   ]
  },
  {
   "cell_type": "code",
   "execution_count": null,
   "metadata": {},
   "outputs": [],
   "source": []
  }
 ],
 "metadata": {
  "kernelspec": {
   "display_name": "Python 3",
   "language": "python",
   "name": "python3"
  },
  "language_info": {
   "codemirror_mode": {
    "name": "ipython",
    "version": 3
   },
   "file_extension": ".py",
   "mimetype": "text/x-python",
   "name": "python",
   "nbconvert_exporter": "python",
   "pygments_lexer": "ipython3",
   "version": "3.7.3"
  }
 },
 "nbformat": 4,
 "nbformat_minor": 2
}
